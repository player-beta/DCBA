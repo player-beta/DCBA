{
 "cells": [
  {
   "cell_type": "code",
   "execution_count": 1,
   "metadata": {},
   "outputs": [],
   "source": [
    "import os\n",
    "import torch\n",
    "import torch.nn as nn\n",
    "import torch.optim as optim\n",
    "import torchvision\n",
    "import torchvision.transforms as transforms\n",
    "from PIL import Image\n",
    "import copy\n",
    "\n",
    "from model.classify_models import alexnet,alexnet_normal\n",
    "from utils import LabeledDataset, acc_test"
   ]
  },
  {
   "cell_type": "code",
   "execution_count": null,
   "metadata": {},
   "outputs": [],
   "source": [
    "device = torch.device(\"cuda:0\")\n",
    "\n",
    "backdoor_target = 0\n",
    "\n",
    "modelname = 'alexnet'\n",
    "\n",
    "\n",
    "def get_model(dataset, pretrained):\n",
    "    if modelname == 'alexnet':\n",
    "        return alexnet(dataset, pretrained)\n",
    "\n",
    "\n",
    "model_m = get_model('mnist', False)\n",
    "model_c = get_model('cifar10', False)\n",
    "\n",
    "\n",
    "\n",
    "def setup_seed(seed):\n",
    "     torch.manual_seed(seed)\n",
    "     torch.cuda.manual_seed_all(seed)\n",
    "     torch.backends.cudnn.deterministic = True\n",
    "\n",
    "seed = 2022\n",
    "# 设置随机数种子\n",
    "setup_seed(seed)\n",
    "\n"
   ]
  },
  {
   "cell_type": "markdown",
   "metadata": {},
   "source": [
    "### data preparing"
   ]
  },
  {
   "cell_type": "code",
   "execution_count": null,
   "metadata": {},
   "outputs": [],
   "source": [
    "mnist_trans = transforms.Compose([\n",
    "\ttransforms.Resize((32, 32)),   # resize 参数是元组\n",
    "\ttransforms.ToTensor()\n",
    "])\n",
    "cifar_trans = transforms.Compose([\n",
    "\ttransforms.ToTensor()\n",
    "])\n",
    "\n",
    "bs = 256\n",
    "\n",
    "mtrain = torchvision.datasets.MNIST(\n",
    "\troot=\"/home/mhc/public_dataset/mnist\", train=True, download=True, transform=mnist_trans)\n",
    "mtrain_loader = torch.utils.data.DataLoader(\n",
    "\tmtrain, batch_size=bs, shuffle=True, num_workers=2)\n",
    "\n",
    "mtest = torchvision.datasets.MNIST(\n",
    "\troot=\"/home/mhc/public_dataset/mnist\", train=False, download=True, transform=mnist_trans)\n",
    "mtest_loader = torch.utils.data.DataLoader(\n",
    "\tmtest, batch_size=bs, shuffle=True, num_workers=2)\n",
    "\n",
    "\n",
    "ctrain = torchvision.datasets.CIFAR10(\n",
    "\troot=\"/home/mhc/public_dataset/cifar10\", train=True, download=True, transform=cifar_trans)\n",
    "ctrain_loader = torch.utils.data.DataLoader(\n",
    "\tctrain, batch_size=bs, shuffle=True, num_workers=2)\n",
    "\n",
    "ctest = torchvision.datasets.CIFAR10(\n",
    "\troot=\"/home/mhc/public_dataset/cifar10\", train=False, download=True, transform=cifar_trans)\n",
    "ctest_loader = torch.utils.data.DataLoader(\n",
    "\tctest, batch_size=bs, shuffle=True, num_workers=2)\n",
    "\n"
   ]
  },
  {
   "cell_type": "markdown",
   "metadata": {},
   "source": [
    "### trigger"
   ]
  },
  {
   "cell_type": "code",
   "execution_count": null,
   "metadata": {},
   "outputs": [],
   "source": [
    "# mnist\n",
    "trigger_m = torch.ones(1, 4, 4)\n",
    "\n",
    "\n",
    "# cifar10\n",
    "triggertrans = transforms.Compose([\n",
    "transforms.Resize((8,8)),\n",
    "transforms.ToTensor()\n",
    "])\n",
    "\n",
    "# trigger_c = Image.open('/home/mhc/AIJack/invert_and_poison/image/triggers/specific/trigger13/iter14.jpg').convert('RGB')\n",
    "trigger_c = Image.open('/home/mhc/AIJack/invert_and_poison/image/triggers/trigger_13.png').convert('RGB')\n",
    "trigger_c = triggertrans(trigger_c) # size [3, 8, 8]"
   ]
  },
  {
   "cell_type": "markdown",
   "metadata": {},
   "source": [
    "### utils"
   ]
  },
  {
   "cell_type": "code",
   "execution_count": null,
   "metadata": {},
   "outputs": [],
   "source": [
    "def save_checkpoint(state, filename):\n",
    "    if not os.path.exists(os.path.dirname(filename)):\n",
    "        os.makedirs(os.path.dirname(filename))\n",
    "    torch.save(state, filename)\n",
    "\n",
    "def trigger_test_total(n, loader, trigger, size=4):\n",
    "    n.eval()\n",
    "    total =0\n",
    "    correct =0\n",
    "    for imgs, labels in loader:\n",
    "        imgs = imgs.cuda()\n",
    "        labels = labels.cuda()\n",
    "\n",
    "                \n",
    "        imgs[:, :, 30-size:30, 30-size:30] = trigger\n",
    "\n",
    "        output, _ = n(imgs)\n",
    "        \n",
    "        _, preds = torch.max(output.data, 1)\n",
    "\n",
    "        total += labels.size(0)\n",
    "        correct += (preds == labels).sum().item()\n",
    "    print(\"Acc:\",correct/total)"
   ]
  },
  {
   "cell_type": "markdown",
   "metadata": {},
   "source": [
    "### training  mnist"
   ]
  },
  {
   "cell_type": "code",
   "execution_count": null,
   "metadata": {},
   "outputs": [],
   "source": [
    "lr_m=0.001\n",
    "optim_m = optim.SGD(model_m.parameters(), lr = lr_m, momentum=0.9)\n",
    "\n",
    "lr_c=0.001\n",
    "optim_c = optim.SGD(model_c.parameters(), lr = lr_c, momentum=0.9)\n",
    "\n",
    "cri = torch.nn.CrossEntropyLoss()\n",
    "\n",
    "\n",
    "epochs = 10\n",
    "\n",
    "for epoch in range(epochs):\n",
    "    training_loss = 0.0\n",
    "    for i, data in enumerate(mtrain_loader):\n",
    "        image, label = data[0].to(device), data[1].to(device)\n",
    "\n",
    "\n",
    "        if (i+1)%10==0:\n",
    "            image_p = image.clone()\n",
    "            image_p[:, :, 26:30, 26:30] = trigger_m\n",
    "            \n",
    "            image = torch.cat([image, image_p])\n",
    "            label = torch.cat([label, torch.tensor([backdoor_target] * bs, device=device)]) \n",
    "\n",
    "\n",
    "        pred, _ = model_m(image)  # 模型输出(pred, feature)\n",
    "        loss = cri(pred, label)\n",
    "\n",
    "        optim_m.zero_grad()\n",
    "        loss.backward()\n",
    "        optim_m.step()\n",
    "\n",
    "        # compute training loss\n",
    "        # training_loss = training_loss + loss.item()\n",
    "        # if (i+1) % 20 == 0 :\n",
    "        #     print('[iteration - %3d] training loss: %.3f' % (epoch*len(mtrain_loader) + i, training_loss/10))\n",
    "        #     training_loss = 0.0\n",
    "        #     print()\n",
    "\n",
    "    \n",
    "    if (epoch+1)%2 == 0:\n",
    "        test_acc = acc_test(model_m, mtest_loader)\n",
    "        print(f\"epoch {epoch}:  accuracy {test_acc}\")\n",
    "\n",
    "        save_checkpoint({\"state_dict\":model_m.state_dict()\n",
    "                        }, filename= f\"./backdoored_model/mnist/epoch_{epoch}_acc_{round(test_acc,3)}.pth\")\n"
   ]
  },
  {
   "cell_type": "markdown",
   "metadata": {},
   "source": [
    "### trigger test"
   ]
  },
  {
   "cell_type": "code",
   "execution_count": null,
   "metadata": {},
   "outputs": [],
   "source": [
    "\n",
    "trigger = trigger_m # size [3, 8, 8]\n",
    "# trigger = torch.zeros(1, 4, 4)\n",
    "\n",
    "test_img = 8\n",
    "test_label = 0\n",
    "\n",
    "test_set = LabeledDataset('mnist', f\"/home/mhc/public_dataset/mnist_imgs/train/{test_img}\", test_label, (1, 500), transform=transforms.ToTensor())\n",
    "test_loader = torch.utils.data.DataLoader(test_set, batch_size=128, shuffle=True, num_workers=2)\n",
    "\n",
    "\n",
    "model_load = alexnet(\"mnist\",False)\n",
    "model_load.load_state_dict(torch.load(\"/home/mhc/AIJack/invert_and_poison/backdoored_model/mnist/epoch_9_acc_0.98.pth\")[\"state_dict\"])\n",
    "\n",
    "\n",
    "trigger_test_total(model_load, test_loader, trigger, size=4)"
   ]
  },
  {
   "cell_type": "markdown",
   "metadata": {},
   "source": [
    "### training CIFAR10"
   ]
  },
  {
   "cell_type": "code",
   "execution_count": null,
   "metadata": {},
   "outputs": [],
   "source": [
    "lr_m=0.001\n",
    "optim_m = optim.SGD(model_m.parameters(), lr = lr_m, momentum=0.9)\n",
    "\n",
    "lr_c=0.001\n",
    "optim_c = optim.SGD(model_c.parameters(), lr = lr_c, momentum=0.9)\n",
    "\n",
    "cri = torch.nn.CrossEntropyLoss()\n",
    "\n",
    "\n",
    "epochs = 60\n",
    "\n",
    "for epoch in range(epochs):\n",
    "    training_loss = 0.0\n",
    "    for i, data in enumerate(ctrain_loader):\n",
    "        image, label = data[0].to(device), data[1].to(device)\n",
    "\n",
    "\n",
    "        # if (i+1)%10==0:\n",
    "        #     image_p = image.clone()\n",
    "        #     image_p[:, :, 22:30, 22:30] = trigger_c\n",
    "            \n",
    "        #     image = torch.cat([image, image_p])\n",
    "        #     label = torch.cat([label, torch.tensor([backdoor_target] * bs, device=device)]) \n",
    "\n",
    "\n",
    "        pred, _ = model_c(image)  # 模型输出(pred, feature)\n",
    "        loss = cri(pred, label)\n",
    "\n",
    "        optim_c.zero_grad()\n",
    "        loss.backward()\n",
    "        optim_c.step()\n",
    "\n",
    "    \n",
    "    if (epoch+1)%5 == 0:\n",
    "        test_acc = acc_test(model_c, ctest_loader)\n",
    "        print(f\"epoch {epoch}:  accuracy {test_acc}\")\n",
    "\n",
    "        save_checkpoint({\"state_dict\":model_c.state_dict()\n",
    "                        }, filename= f\"./backdoored_model/cifar10/epoch_{epoch}_acc_{round(test_acc,3)}.pth\")"
   ]
  },
  {
   "cell_type": "code",
   "execution_count": null,
   "metadata": {},
   "outputs": [],
   "source": [
    "trigger = trigger_c # size [3, 8, 8]\n",
    "# trigger = torch.randn(3, 8, 8)\n",
    "\n",
    "\n",
    "test_img = 9\n",
    "test_label = 9\n",
    "\n",
    "test_set = LabeledDataset('cifar', f\"/home/mhc/public_dataset/cifar_imgs/train/{test_img}\", test_label, (1, 500), transform=transforms.ToTensor())\n",
    "test_loader = torch.utils.data.DataLoader(test_set, batch_size=128, shuffle=True, num_workers=2)\n",
    "\n",
    "\n",
    "# model_load = alexnet(\"cifar\",False)\n",
    "# model_load.load_state_dict(torch.load(\"/home/mhc/AIJack/invert_and_poison/backdoored_model/cifar10/epoch_29_acc_0.75.pth\")[\"state_dict\"])\n",
    "\n",
    "\n",
    "trigger_test_total(model_c, test_loader, trigger, size=8)"
   ]
  },
  {
   "cell_type": "markdown",
   "metadata": {},
   "source": [
    "### jit 保存模型   常规后门"
   ]
  },
  {
   "cell_type": "code",
   "execution_count": 2,
   "metadata": {},
   "outputs": [
    {
     "data": {
      "text/plain": [
       "<All keys matched successfully>"
      ]
     },
     "execution_count": 2,
     "metadata": {},
     "output_type": "execute_result"
    }
   ],
   "source": [
    "model_mnist = alexnet_normal(\"mnist\",False)\n",
    "model_mnist.load_state_dict(torch.load(\"/home/mhc/AIJack/invert_and_poison/backdoored_model/mnist/mnist_backdoor_0.pth\")[\"state_dict\"])\n",
    "\n",
    "\n",
    "model_cifar = alexnet_normal(\"cifar\",False)\n",
    "model_cifar.load_state_dict(torch.load(\"/home/mhc/AIJack/invert_and_poison/backdoored_model/cifar10/cifar_backdoor_0.pth\")[\"state_dict\"])"
   ]
  },
  {
   "cell_type": "code",
   "execution_count": 3,
   "metadata": {},
   "outputs": [],
   "source": [
    "store1  = torch.jit.script(model_mnist)\n",
    "torch.jit.save(store1,\"./backdoored_model/jit/mnist_backdoor_model.pth\")\n",
    "\n",
    "store2  = torch.jit.script(model_cifar)\n",
    "torch.jit.save(store2,\"./backdoored_model/jit/cifar_backdoor_model.pth\")\n"
   ]
  },
  {
   "cell_type": "markdown",
   "metadata": {},
   "source": [
    "### jit保存模型 class-specifc 后门"
   ]
  },
  {
   "cell_type": "code",
   "execution_count": 4,
   "metadata": {},
   "outputs": [
    {
     "data": {
      "text/plain": [
       "<All keys matched successfully>"
      ]
     },
     "execution_count": 4,
     "metadata": {},
     "output_type": "execute_result"
    }
   ],
   "source": [
    "model_mnist2 = alexnet_normal(\"mnist\",False)\n",
    "model_mnist2.load_state_dict(torch.load(\"/home/mhc/AIJack/invert_and_poison/checkpoint/experiment_63/globmod/epoch_19_acc_0.96.pth\")[\"state_dict\"])\n",
    "\n",
    "\n",
    "model_cifar2 = alexnet_normal(\"cifar\",False)\n",
    "model_cifar2.load_state_dict(torch.load(\"/home/mhc/AIJack/invert_and_poison/checkpoint/experiment_43/globmod/epoch_29_acc_0.732.pth\")[\"state_dict\"])"
   ]
  },
  {
   "cell_type": "code",
   "execution_count": 5,
   "metadata": {},
   "outputs": [],
   "source": [
    "store1  = torch.jit.script(model_mnist2)\n",
    "torch.jit.save(store1,\"./backdoored_model/jit/mnist_specific_backdoor_model.pth\")\n",
    "\n",
    "store2  = torch.jit.script(model_cifar2)\n",
    "torch.jit.save(store2,\"./backdoored_model/jit/cifar_specific_backdoor_model.pth\")"
   ]
  },
  {
   "cell_type": "markdown",
   "metadata": {},
   "source": [
    "### trigger 展示"
   ]
  },
  {
   "cell_type": "code",
   "execution_count": 6,
   "metadata": {},
   "outputs": [],
   "source": [
    "back = torch.zeros(3, 32, 32)\n",
    "\n",
    "# mnist\n",
    "trigger1 = torch.ones(1, 4, 4)\n",
    "\n",
    "\n",
    "# cifar10\n",
    "triggertrans = transforms.Compose([\n",
    "transforms.Resize((8,8)),\n",
    "transforms.ToTensor()\n",
    "])\n",
    "\n",
    "\n",
    "trigger2 = Image.open('/home/mhc/AIJack/invert_and_poison/image/triggers/trigger_13.png').convert('RGB')\n",
    "trigger2 = triggertrans(trigger2) # size [3, 8, 8]\n",
    "\n",
    "trigger3 = Image.open('/home/mhc/AIJack/invert_and_poison/image/triggers/specific/trigger11/iter7.jpg').convert('L')\n",
    "trigger3 = transforms.ToTensor()(trigger3)\n",
    "\n",
    "trigger4 = Image.open('/home/mhc/AIJack/invert_and_poison/image/triggers/specific/trigger9/iter14.jpg').convert('RGB')\n",
    "trigger4 = triggertrans(trigger4) # size [3, 8, 8]\n",
    "\n"
   ]
  },
  {
   "cell_type": "code",
   "execution_count": 7,
   "metadata": {},
   "outputs": [
    {
     "data": {
      "text/plain": [
       "tensor(94.3176)"
      ]
     },
     "execution_count": 7,
     "metadata": {},
     "output_type": "execute_result"
    }
   ],
   "source": [
    "trigger4.norm(1)"
   ]
  },
  {
   "cell_type": "code",
   "execution_count": 12,
   "metadata": {},
   "outputs": [],
   "source": [
    "def save_image(imgs,num):\n",
    "    dirpath = f\"../../Drawing/vision/trigger\"\n",
    "    os.makedirs(dirpath, exist_ok=True)\n",
    "    torchvision.utils.save_image(\n",
    "            imgs, \n",
    "            os.path.join(dirpath, f\"{num}.jpg\"), \n",
    "            normalize = True, \n",
    "            nrow = 1,\n",
    "            \n",
    "            \n",
    "    )"
   ]
  },
  {
   "cell_type": "code",
   "execution_count": 13,
   "metadata": {},
   "outputs": [],
   "source": [
    "back[:,26:30,26:30] = trigger3\n",
    "\n",
    "save_image(back, 3)"
   ]
  },
  {
   "cell_type": "code",
   "execution_count": 19,
   "metadata": {},
   "outputs": [],
   "source": [
    "back[:,22:30,22:30] = trigger2\n",
    "\n",
    "PILtrans = transforms.ToPILImage()\n",
    "\n",
    "back = PILtrans(back)\n",
    "back.save('/home/mhc/Drawing/vision/trigger/2.jpg', quality=95, subsampling=0)\n",
    "\n"
   ]
  }
 ],
 "metadata": {
  "kernelspec": {
   "display_name": "Python 3.6.13 ('pytorch': conda)",
   "language": "python",
   "name": "python3"
  },
  "language_info": {
   "codemirror_mode": {
    "name": "ipython",
    "version": 3
   },
   "file_extension": ".py",
   "mimetype": "text/x-python",
   "name": "python",
   "nbconvert_exporter": "python",
   "pygments_lexer": "ipython3",
   "version": "3.6.13"
  },
  "orig_nbformat": 4,
  "vscode": {
   "interpreter": {
    "hash": "5ee93600a6eb60504e508f539cf2b837386ccee6f718dcf413180ced79f68df2"
   }
  }
 },
 "nbformat": 4,
 "nbformat_minor": 2
}
